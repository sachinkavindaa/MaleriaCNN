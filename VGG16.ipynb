{
  "nbformat": 4,
  "nbformat_minor": 0,
  "metadata": {
    "colab": {
      "provenance": []
    },
    "kernelspec": {
      "name": "python3",
      "display_name": "Python 3"
    },
    "language_info": {
      "name": "python"
    },
    "accelerator": "GPU",
    "gpuClass": "standard"
  },
  "cells": [
    {
      "cell_type": "code",
      "execution_count": 1,
      "metadata": {
        "id": "vTg3Vxgo3QIT"
      },
      "outputs": [],
      "source": [
        "# import required libraries\n",
        "import numpy as np\n",
        "from keras.utils import to_categorical\n",
        "from keras.models import Model\n",
        "from keras.layers import Input, Dense, Flatten, concatenate, Dropout\n",
        "from keras.callbacks import EarlyStopping\n",
        "from keras.datasets import mnist\n",
        "from keras.applications import VGG16, ResNet50, InceptionV3\n",
        "from sklearn.metrics import classification_report,confusion_matrix\n",
        "import tensorflow as tf\n",
        "from tensorflow import keras\n",
        "from tensorflow.keras.layers import MaxPooling2D, BatchNormalization, Conv2D, Dense, Dropout, Flatten\n",
        "from tensorflow.keras.optimizers import Adam\n",
        "from tensorflow.keras.callbacks import EarlyStopping\n",
        "from tensorflow.keras.layers.experimental.preprocessing import RandomFlip, RandomRotation, Rescaling\n",
        "from tensorflow.keras import Input \n",
        "from tensorflow.keras.losses import BinaryCrossentropy\n",
        "from tensorflow.keras.preprocessing.image import ImageDataGenerator"
      ]
    },
    {
      "cell_type": "code",
      "source": [
        "from google.colab import drive\n",
        "drive.mount('/content/drive')"
      ],
      "metadata": {
        "colab": {
          "base_uri": "https://localhost:8080/"
        },
        "id": "2BhuvK1Z3eYu",
        "outputId": "65987d3d-2fdd-4c94-cefc-868e8a0f721d"
      },
      "execution_count": 2,
      "outputs": [
        {
          "output_type": "stream",
          "name": "stdout",
          "text": [
            "Mounted at /content/drive\n"
          ]
        }
      ]
    },
    {
      "cell_type": "code",
      "source": [
        "from zipfile import ZipFile\n",
        "file_name = \"/content/drive/MyDrive/Cell.zip\"\n",
        "with ZipFile(file_name,'r') as zip:\n",
        "  zip.extractall()\n",
        "  #print('Done')\n",
        "\n",
        "extracted_file_path = \"/content/drive/MyDrive/Cell\" "
      ],
      "metadata": {
        "id": "sGg9Dbp43nRm"
      },
      "execution_count": 3,
      "outputs": []
    },
    {
      "cell_type": "code",
      "source": [
        "# Defining Image Data Gen\n",
        "WIDTH = 130\n",
        "HEIGHT = 130 \n",
        "BATCH_SIZE = 32\n",
        "num_classes = 2\n",
        "input_shape = (WIDTH, HEIGHT, 3)\n",
        "train_datagen = ImageDataGenerator(rotation_range=20,\n",
        "                              width_shift_range=0.1,\n",
        "                              height_shift_range=0.1,\n",
        "                              rescale=1/225,\n",
        "                              shear_range=0.1,\n",
        "                              zoom_range=0.1,\n",
        "                              horizontal_flip=True,\n",
        "                              fill_mode='nearest',\n",
        "                              validation_split=0.2)"
      ],
      "metadata": {
        "id": "Vf_oAAIk3oUd"
      },
      "execution_count": 4,
      "outputs": []
    },
    {
      "cell_type": "code",
      "source": [
        "test_datagen = ImageDataGenerator(rescale=1./255)"
      ],
      "metadata": {
        "id": "miIG-8Ow3ufR"
      },
      "execution_count": 5,
      "outputs": []
    },
    {
      "cell_type": "code",
      "source": [
        "val_data = tf.keras.preprocessing.image_dataset_from_directory(\n",
        "  '/content/cell_images/cell_images',\n",
        "  validation_split=0.2,\n",
        "  color_mode = \"rgb\",\n",
        "  subset=\"validation\",\n",
        "  seed=69,\n",
        "  image_size=(WIDTH, HEIGHT),\n",
        "  batch_size=BATCH_SIZE)"
      ],
      "metadata": {
        "colab": {
          "base_uri": "https://localhost:8080/"
        },
        "id": "JrCk3gNQ3xkV",
        "outputId": "1ef6b666-0317-4fd8-87a1-ff5a8577b6b7"
      },
      "execution_count": 6,
      "outputs": [
        {
          "output_type": "stream",
          "name": "stdout",
          "text": [
            "Found 27558 files belonging to 2 classes.\n",
            "Using 5511 files for validation.\n"
          ]
        }
      ]
    },
    {
      "cell_type": "code",
      "source": [
        "train_data = tf.keras.preprocessing.image_dataset_from_directory(\n",
        "  '/content/cell_images/cell_images',\n",
        "  validation_split=0.2,\n",
        "  color_mode = \"rgb\",\n",
        "  subset=\"training\",\n",
        "  seed=69,\n",
        "  image_size=(WIDTH, HEIGHT),\n",
        "  batch_size=BATCH_SIZE)"
      ],
      "metadata": {
        "colab": {
          "base_uri": "https://localhost:8080/"
        },
        "id": "z-d5SKQ33yaS",
        "outputId": "5a666a9b-4d95-42bc-fb63-f6289e631dce"
      },
      "execution_count": 7,
      "outputs": [
        {
          "output_type": "stream",
          "name": "stdout",
          "text": [
            "Found 27558 files belonging to 2 classes.\n",
            "Using 22047 files for training.\n"
          ]
        }
      ]
    },
    {
      "cell_type": "code",
      "source": [
        "# find how many batches are in val_data\n",
        "val_batches = tf.data.experimental.cardinality(val_data)\n",
        "test_data = val_data.take(val_batches // 2)\n",
        "val_data = val_data.skip(val_batches // 2)"
      ],
      "metadata": {
        "id": "xnQExpzK31wV"
      },
      "execution_count": 8,
      "outputs": []
    },
    {
      "cell_type": "code",
      "source": [
        "# performance boosting code --> prefetching \n",
        "\n",
        "AUTOTUNE = tf.data.AUTOTUNE\n",
        "\n",
        "train_data = train_data.prefetch(buffer_size=AUTOTUNE)\n",
        "val_data = val_data.prefetch(buffer_size=AUTOTUNE)\n",
        "test_data = test_data.prefetch(buffer_size=AUTOTUNE)"
      ],
      "metadata": {
        "id": "Ya-06oaE36Gj"
      },
      "execution_count": 9,
      "outputs": []
    },
    {
      "cell_type": "code",
      "source": [
        "# applying data augmentation\n",
        "data_augmentation = tf.keras.Sequential(\n",
        "[\n",
        "  RandomFlip('horizontal'),\n",
        "  RandomRotation(0.25),\n",
        "], \"Augmentation_Layers\")"
      ],
      "metadata": {
        "id": "YmMJd67B375s"
      },
      "execution_count": 10,
      "outputs": []
    },
    {
      "cell_type": "code",
      "source": [
        "# scale the inputs to between -1 to 1 \n",
        "rescale = Rescaling(scale=1./127.5, offset=-1)\n",
        "\n",
        "inputs = tf.keras.Input(shape=(WIDTH, HEIGHT, 1))\n",
        "x = data_augmentation(inputs)\n",
        "x = rescale(x)\n"
      ],
      "metadata": {
        "colab": {
          "base_uri": "https://localhost:8080/"
        },
        "id": "mkMPFbmI9z0M",
        "outputId": "a77b20de-6ee3-402a-f607-43a3d2954e1b"
      },
      "execution_count": 11,
      "outputs": [
        {
          "output_type": "stream",
          "name": "stderr",
          "text": [
            "WARNING:tensorflow:Using a while_loop for converting RngReadAndSkip cause there is no registered converter for this op.\n",
            "WARNING:tensorflow:Using a while_loop for converting Bitcast cause there is no registered converter for this op.\n",
            "WARNING:tensorflow:Using a while_loop for converting Bitcast cause there is no registered converter for this op.\n",
            "WARNING:tensorflow:Using a while_loop for converting StatelessRandomUniformV2 cause there is no registered converter for this op.\n",
            "WARNING:tensorflow:Using a while_loop for converting ImageProjectiveTransformV3 cause there is no registered converter for this op.\n",
            "WARNING:tensorflow:Using a while_loop for converting RngReadAndSkip cause there is no registered converter for this op.\n",
            "WARNING:tensorflow:Using a while_loop for converting Bitcast cause there is no registered converter for this op.\n",
            "WARNING:tensorflow:Using a while_loop for converting Bitcast cause there is no registered converter for this op.\n",
            "WARNING:tensorflow:Using a while_loop for converting StatelessRandomUniformV2 cause there is no registered converter for this op.\n",
            "WARNING:tensorflow:Using a while_loop for converting ImageProjectiveTransformV3 cause there is no registered converter for this op.\n"
          ]
        }
      ]
    },
    {
      "cell_type": "code",
      "source": [
        "x = tf.keras.layers.Lambda(lambda image: tf.image.grayscale_to_rgb(image))(x)\n",
        "x = tf.keras.layers.Resizing(224, 224)(x)"
      ],
      "metadata": {
        "id": "EOKBMZKxQz_i"
      },
      "execution_count": 12,
      "outputs": []
    },
    {
      "cell_type": "code",
      "source": [
        "from tensorflow.keras.layers import Dense, GlobalAveragePooling2D, Lambda, Input\n",
        "# Define input tensor\n",
        "x = Input(shape=input_shape)\n",
        "\n",
        "# Convert grayscale image to RGB image\n",
        "if input_shape[-1] == 1:\n",
        "    x = Lambda(lambda image: tf.image.grayscale_to_rgb(image))(x)\n",
        "\n",
        "# Resize image\n",
        "x = tf.keras.layers.Resizing(224, 224)(x)\n",
        "\n",
        "# Add VGG19 base model\n",
        "base_model = VGG16(weights='imagenet', include_top=False, input_tensor=x)\n",
        "\n",
        "# Add a pooling layer, dense layer, and output layer on top of the base model\n",
        "x = base_model.output\n",
        "x = GlobalAveragePooling2D()(x)\n",
        "x = Dense(1024, activation='relu')(x)\n",
        "output = Dense(1, activation='sigmoid')(x)\n",
        "\n",
        "# Create the model\n",
        "model = Model(inputs=base_model.input, outputs=output)\n",
        "\n",
        "# Compile the model\n",
        "opt = Adam(learning_rate=0.001)\n",
        "model.compile(loss='binary_crossentropy', optimizer=opt, metrics=['accuracy'])\n",
        "\n"
      ],
      "metadata": {
        "id": "Iy95hzABCR-e"
      },
      "execution_count": 15,
      "outputs": []
    },
    {
      "cell_type": "code",
      "source": [
        "epochs = 10\n",
        "early_stop = EarlyStopping(patience=3, monitor='val_loss', restore_best_weights=True)\n",
        "history = model.fit(train_data,\n",
        "                    epochs=epochs,\n",
        "                    validation_data=val_data, callbacks=[early_stop])"
      ],
      "metadata": {
        "colab": {
          "base_uri": "https://localhost:8080/"
        },
        "id": "6INkubjiR4Ph",
        "outputId": "da13c257-547d-47bd-e7cb-47bb567f76cd"
      },
      "execution_count": 16,
      "outputs": [
        {
          "output_type": "stream",
          "name": "stdout",
          "text": [
            "Epoch 1/10\n",
            "689/689 [==============================] - 302s 407ms/step - loss: 1.2153 - accuracy: 0.4990 - val_loss: 0.6931 - val_accuracy: 0.5143\n",
            "Epoch 2/10\n",
            "689/689 [==============================] - 272s 394ms/step - loss: 0.6932 - accuracy: 0.4980 - val_loss: 0.6931 - val_accuracy: 0.5107\n",
            "Epoch 3/10\n",
            "689/689 [==============================] - 272s 394ms/step - loss: 0.6932 - accuracy: 0.4963 - val_loss: 0.6931 - val_accuracy: 0.5136\n",
            "Epoch 4/10\n",
            "689/689 [==============================] - 272s 395ms/step - loss: 0.6932 - accuracy: 0.4954 - val_loss: 0.6931 - val_accuracy: 0.5147\n"
          ]
        }
      ]
    },
    {
      "cell_type": "code",
      "source": [
        "model.evaluate(test_data)"
      ],
      "metadata": {
        "colab": {
          "base_uri": "https://localhost:8080/"
        },
        "id": "mXwADqr_bQiG",
        "outputId": "e486eef8-683e-44e3-d800-7f0612f117e4"
      },
      "execution_count": 17,
      "outputs": [
        {
          "output_type": "stream",
          "name": "stdout",
          "text": [
            "86/86 [==============================] - 10s 114ms/step - loss: 0.6931 - accuracy: 0.5015\n"
          ]
        },
        {
          "output_type": "execute_result",
          "data": {
            "text/plain": [
              "[0.6931423544883728, 0.5014534592628479]"
            ]
          },
          "metadata": {},
          "execution_count": 17
        }
      ]
    },
    {
      "cell_type": "code",
      "source": [
        "val_loss=history.history['val_loss']\n",
        "train_loss=history.history['loss']"
      ],
      "metadata": {
        "id": "4C1a4a8vbZQU"
      },
      "execution_count": 18,
      "outputs": []
    },
    {
      "cell_type": "code",
      "source": [
        "import matplotlib.pyplot as plt\n",
        "plt.figure()\n",
        "plt.xlabel('Epochs')\n",
        "plt.ylabel('Loss')\n",
        "plt.plot(train_loss,'bo--')\n",
        "plt.plot(val_loss,'ro--')\n",
        "plt.title('Loss vs Epochs')\n",
        "plt.legend(['Train','Valid'])\n",
        "plt.tight_layout()\n",
        "plt.show()"
      ],
      "metadata": {
        "colab": {
          "base_uri": "https://localhost:8080/",
          "height": 297
        },
        "id": "XYr7kKHKbdWL",
        "outputId": "6f1663cb-e7f7-4b52-9808-420b672c66bd"
      },
      "execution_count": 19,
      "outputs": [
        {
          "output_type": "display_data",
          "data": {
            "text/plain": [
              "<Figure size 432x288 with 1 Axes>"
            ],
            "image/png": "[encoded data removed]"
          },
          "metadata": {
            "needs_background": "light"
          }
        }
      ]
    },
    {
      "cell_type": "code",
      "source": [
        "plt.figure()\n",
        "plt.xlabel('Epochs')\n",
        "plt.ylabel('Accuracy')\n",
        "plt.plot(history.epoch, history.history['accuracy'],'bo--')\n",
        "plt.plot(history.epoch, history.history['val_accuracy'],'ro--')\n",
        "# plt.plot(train_loss,'bo--')\n",
        "# plt.plot(val_loss,'ro--')\n",
        "plt.title('Accuracy vs Epochs')\n",
        "plt.legend(['Train','Valid'])\n",
        "plt.tight_layout()\n",
        "plt.show()"
      ],
      "metadata": {
        "colab": {
          "base_uri": "https://localhost:8080/",
          "height": 297
        },
        "id": "cXWtcW2Ubmjc",
        "outputId": "a70f4748-6a6e-4ac9-bd90-6fb4b10649e9"
      },
      "execution_count": 20,
      "outputs": [
        {
          "output_type": "display_data",
          "data": {
            "text/plain": [
              "<Figure size 432x288 with 1 Axes>"
            ],
            "image/png": "[encoded data removed]"
          },
          "metadata": {
            "needs_background": "light"
          }
        }
      ]
    },
    {
      "cell_type": "code",
      "source": [
        "tf.keras.utils.plot_model(model,show_shapes=True,rankdir='LR')"
      ],
      "metadata": {
        "colab": {
          "base_uri": "https://localhost:8080/",
          "height": 34
        },
        "id": "LRDpZ92nb0eN",
        "outputId": "159ff9b5-7b7b-4da0-9c65-144a6c530871"
      },
      "execution_count": 21,
      "outputs": [
        {
          "output_type": "execute_result",
          "data": {
            "image/png": "[encoded data removed]",
            "text/plain": [
              "<IPython.core.display.Image object>"
            ]
          },
          "metadata": {},
          "execution_count": 21
        }
      ]
    },
    {
      "cell_type": "code",
      "source": [
        " from sklearn.metrics import confusion_matrix \n",
        "from sklearn.metrics import accuracy_score \n",
        "from sklearn.metrics import classification_report  \n",
        "results = confusion_matrix \n",
        "print ('Confusion Matrix :')\n",
        "print(results) \n",
        "print ('Accuracy Score :',history.history['accuracy'] )\n",
        "print ('Report : ')\n",
        "print (history.history['val_accuracy']) "
      ],
      "metadata": {
        "colab": {
          "base_uri": "https://localhost:8080/"
        },
        "id": "KNr8hGqeb6Xs",
        "outputId": "247d32be-8d8a-4f16-ea25-fdbface3e9d3"
      },
      "execution_count": 22,
      "outputs": [
        {
          "output_type": "stream",
          "name": "stdout",
          "text": [
            "Confusion Matrix :\n",
            "<function confusion_matrix at 0x7f759b74d280>\n",
            "Accuracy Score : [0.49902480840682983, 0.49798157811164856, 0.49634870886802673, 0.4954415559768677]\n",
            "Report : \n",
            "[0.5143167972564697, 0.510692298412323, 0.5135918855667114, 0.5146792531013489]\n"
          ]
        }
      ]
    },
    {
      "cell_type": "code",
      "source": [
        "import itertools\n",
        "\n",
        "def plot_confusion_matrix(cm, classes, normalize=True, title='Confusion matrix', cmap=plt.cm.Blues):\n",
        "    \"\"\"\n",
        "    This function prints and plots the confusion matrix.\n",
        "    Normalization can be applied by setting `normalize=True`.\n",
        "    \"\"\"\n",
        "    plt.figure(figsize=(10,10))\n",
        "    plt.imshow(cm, interpolation='nearest', cmap=cmap)\n",
        "    plt.title(title)\n",
        "    plt.colorbar()\n",
        "    tick_marks = np.arange(len(classes))\n",
        "    plt.xticks(tick_marks, classes, rotation=45)\n",
        "    plt.yticks(tick_marks, classes)\n",
        "    if normalize:\n",
        "        cm = cm.astype('float') / cm.sum(axis=1)[:, np.newaxis]\n",
        "        cm = np.around(cm, decimals=2)\n",
        "        cm[np.isnan(cm)] = 0.0\n",
        "    thresh = cm.max() / 2.\n",
        "    for i, j in itertools.product(range(cm.shape[0]), range(cm.shape[1])):\n",
        "        plt.text(j, i, cm[i, j],\n",
        "                 horizontalalignment=\"center\",\n",
        "                 color=\"white\" if cm[i, j] > thresh else \"black\")\n",
        "    plt.tight_layout()\n",
        "    plt.ylabel('True label')\n",
        "    plt.xlabel('Predicted label')"
      ],
      "metadata": {
        "id": "SomhiRGRb94T"
      },
      "execution_count": 23,
      "outputs": []
    },
    {
      "cell_type": "code",
      "source": [
        "# Make predictions on the test data\n",
        "y_pred = model.predict(test_data)\n",
        "y_pred = np.round(y_pred).flatten()\n",
        "\n",
        "# Obtain the true labels for the test data\n",
        "y_true = np.concatenate([y for x, y in test_data], axis=0)\n",
        "y_true = y_true.flatten()\n",
        "\n",
        "# Generate the confusion matrix\n",
        "cm = confusion_matrix(y_true, y_pred)\n",
        "print(cm)\n",
        "\n"
      ],
      "metadata": {
        "colab": {
          "base_uri": "https://localhost:8080/"
        },
        "id": "quf8gAnpcCRc",
        "outputId": "8ddd6f00-d3c8-488a-e7e3-ff580eae06bc"
      },
      "execution_count": 24,
      "outputs": [
        {
          "output_type": "stream",
          "name": "stdout",
          "text": [
            "86/86 [==============================] - 10s 113ms/step\n",
            "[[   0 1383]\n",
            " [   0 1369]]\n"
          ]
        }
      ]
    },
    {
      "cell_type": "code",
      "source": [
        "from sklearn.metrics import roc_curve, auc\n",
        "import matplotlib.pyplot as plt\n",
        "\n",
        "# Compute ROC curve and ROC area for each class\n",
        "fpr, tpr, _ = roc_curve(y_true, y_pred)\n",
        "roc_auc = auc(fpr, tpr)\n",
        "\n",
        "# Plot the ROC curve\n",
        "plt.plot(fpr, tpr, label='ROC curve (area = %0.2f)' % roc_auc)\n",
        "plt.plot([0, 1], [0, 1], 'k--')\n",
        "plt.xlim([0.0, 1.0])\n",
        "plt.ylim([0.0, 1.05])\n",
        "plt.xlabel('False Positive Rate')\n",
        "plt.ylabel('True Positive Rate')\n",
        "plt.title('Receiver Operating Characteristic')\n",
        "plt.legend(loc=\"lower right\")\n",
        "plt.show()\n"
      ],
      "metadata": {
        "colab": {
          "base_uri": "https://localhost:8080/",
          "height": 295
        },
        "id": "STSNJSzdcHIl",
        "outputId": "3b9ce24e-5fe8-466b-9ee0-bbe38ebad64b"
      },
      "execution_count": 25,
      "outputs": [
        {
          "output_type": "display_data",
          "data": {
            "text/plain": [
              "<Figure size 432x288 with 1 Axes>"
            ],
            "image/png": "[encoded data removed]"
          },
          "metadata": {
            "needs_background": "light"
          }
        }
      ]
    },
    {
      "cell_type": "code",
      "source": [
        "from sklearn.metrics import classification_report\n",
        "\n",
        "# Generate the classification report\n",
        "report = classification_report(y_true, y_pred, target_names=['Class 0', 'Class 1'])\n",
        "\n",
        "# Print the classification report\n",
        "print(report)\n"
      ],
      "metadata": {
        "colab": {
          "base_uri": "https://localhost:8080/"
        },
        "id": "rCe-UgNhccXa",
        "outputId": "f62ffc59-f425-44fa-d11f-8fd620610feb"
      },
      "execution_count": 26,
      "outputs": [
        {
          "output_type": "stream",
          "name": "stdout",
          "text": [
            "              precision    recall  f1-score   support\n",
            "\n",
            "     Class 0       0.00      0.00      0.00      1383\n",
            "     Class 1       0.50      1.00      0.66      1369\n",
            "\n",
            "    accuracy                           0.50      2752\n",
            "   macro avg       0.25      0.50      0.33      2752\n",
            "weighted avg       0.25      0.50      0.33      2752\n",
            "\n"
          ]
        },
        {
          "output_type": "stream",
          "name": "stderr",
          "text": [
            "/usr/local/lib/python3.9/dist-packages/sklearn/metrics/_classification.py:1344: UndefinedMetricWarning: Precision and F-score are ill-defined and being set to 0.0 in labels with no predicted samples. Use `zero_division` parameter to control this behavior.\n",
            "  _warn_prf(average, modifier, msg_start, len(result))\n",
            "/usr/local/lib/python3.9/dist-packages/sklearn/metrics/_classification.py:1344: UndefinedMetricWarning: Precision and F-score are ill-defined and being set to 0.0 in labels with no predicted samples. Use `zero_division` parameter to control this behavior.\n",
            "  _warn_prf(average, modifier, msg_start, len(result))\n",
            "/usr/local/lib/python3.9/dist-packages/sklearn/metrics/_classification.py:1344: UndefinedMetricWarning: Precision and F-score are ill-defined and being set to 0.0 in labels with no predicted samples. Use `zero_division` parameter to control this behavior.\n",
            "  _warn_prf(average, modifier, msg_start, len(result))\n"
          ]
        }
      ]
    }
  ]
}